{
  "nbformat": 4,
  "nbformat_minor": 0,
  "metadata": {
    "colab": {
      "provenance": [],
      "include_colab_link": true
    },
    "kernelspec": {
      "name": "python3",
      "display_name": "Python 3"
    },
    "language_info": {
      "name": "python"
    }
  },
  "cells": [
    {
      "cell_type": "markdown",
      "metadata": {
        "id": "view-in-github",
        "colab_type": "text"
      },
      "source": [
        "<a href=\"https://colab.research.google.com/github/kimsohyeon927/code_3rd/blob/main/Untitled0.ipynb\" target=\"_parent\"><img src=\"https://colab.research.google.com/assets/colab-badge.svg\" alt=\"Open In Colab\"/></a>"
      ]
    },
    {
      "cell_type": "markdown",
      "source": [
        "사용자로부터 3개의 값(x,y,z)을 입력받아서 각각 1씩 증가되고, 출력되는 코드작성"
      ],
      "metadata": {
        "id": "dexEu4CfuC-2"
      }
    },
    {
      "cell_type": "code",
      "source": [
        "x = int(input(\"x의 값을 입력하시오.:\"))# 사용자로부터 정수 x의 값을 입력받아 정수로 변환하여 x 변수에 저장합니다.\n",
        "y = int(input(\"y의 값을 입력하시오.:\"))# 사용자로부터 정수 y의 값을 입력받아 정수로 변환하여 y 변수에 저장합니다.\n",
        "z = int(input(\"z의 값을 입력하시오.:\"))# 사용자로부터 정수 z의 값을 입력받아 정수로 변환하여 z 변수에 저장합니다.\n",
        "x = x + 1# x 값을 1 증가시킵니다.\n",
        "y = y + 1# y 값을 1 증가시킵니다.\n",
        "z = z + 1# z 값을 1 증가시킵니다.\n",
        "print(f'x의 값은{x}이며, y의 값은{y}이고, z의 값은{z}이다.')# x, y, z의 값을 출력합니다."
      ],
      "metadata": {
        "colab": {
          "base_uri": "https://localhost:8080/"
        },
        "id": "DJWr-v3RuKWQ",
        "outputId": "40e21c60-3bc2-4c13-e183-fe605e50c5fb"
      },
      "execution_count": null,
      "outputs": [
        {
          "output_type": "stream",
          "name": "stdout",
          "text": [
            "x의 값을 입력하시오.:1\n",
            "y의 값을 입력하시오.:2\n",
            "z의 값을 입력하시오.:3\n",
            "x의 값은2이며, y의 값은3이고, z의 값은4이다.\n"
          ]
        }
      ]
    },
    {
      "cell_type": "markdown",
      "source": [
        "2. 알바생의 시급과 시간을 계산하여 월급을 출력하는 코드"
      ],
      "metadata": {
        "id": "O270gXCxucel"
      }
    },
    {
      "cell_type": "code",
      "source": [
        "hours_worked = int(input(\"일한 시간을 입력하시오.:\"))# 사용자로부터 일한 시간을 입력받아 정수로 변환하여 hours_worked 변수에 저장합니다.\n",
        "pay_rate = int(input(\"시급을 입력하시오(23기준 9620원):\"))# 사용자로부터 시급을 입력받아 정수로 변환하여 pay_rate 변수에 저장합니다.\n",
        "monthly_pay = hours_worked * pay_rate# 일한 시간과 시급을 곱하여 월급여를 계산하고 monthly_pay 변수에 저장합니다.\n",
        "print(f'일한시간은 {hours_worked}이고, 시급은 {pay_rate}원이며, 월급여는 {monthly_pay}입니다.')# 일한 시간, 시급, 월급여를 출력합니다."
      ],
      "metadata": {
        "colab": {
          "base_uri": "https://localhost:8080/"
        },
        "id": "Yk3EKjicuj8X",
        "outputId": "96d822e6-d824-490f-bb22-488d2521d262"
      },
      "execution_count": null,
      "outputs": [
        {
          "output_type": "stream",
          "name": "stdout",
          "text": [
            "일한 시간을 입력하시오.:10\n",
            "시급을 입력하시오(23기준 9620원):9620\n",
            "일한시간은 10이고, 시급은 9620원이며, 월급여는 96200입니다.\n"
          ]
        }
      ]
    },
    {
      "cell_type": "markdown",
      "source": [
        "3. 환율계산하는 코드자성\n",
        "\n",
        "- 원의 변수는 won\n",
        "- 달러의 변수는 usd\n",
        "- 환전의 변수는 exchage\n",
        "\n",
        "\n",
        "\n"
      ],
      "metadata": {
        "id": "626500vNuv0d"
      }
    },
    {
      "cell_type": "code",
      "source": [
        "won = int(input(\"환전할 금액을 입력(kor): \"))# 사용자로부터 환전할 금액을 입력받아 정수로 변환하여 won 변수에 저장합니다.\n",
        "usd = int(input(\"현재 달러의 환율 입력(231031: 1372): \"))# 사용자로부터 현재 달러의 환율을 입력받아 정수로 변환하여 usd 변수에 저장합니다.\n",
        "exchange = won // usd# 환전할 금액을 현재 달러의 환율로 나누어 환전금액을 계산하고 exchange 변수에 저장합니다.\n",
        "print(f'환전할 금액은 {won}이며, 달러 금액은 {usd}이고, 환전금액은 {exchange}달러이다. ')# 환전할 금액, 달러 금액, 환전금액을 출력합니다."
      ],
      "metadata": {
        "colab": {
          "base_uri": "https://localhost:8080/"
        },
        "id": "U0gFdOFqvFYv",
        "outputId": "b18bdf67-b10d-4a09-ba33-0116c4ff4991"
      },
      "execution_count": null,
      "outputs": [
        {
          "output_type": "stream",
          "name": "stdout",
          "text": [
            "환전할 금액을 입력(kor): 5000\n",
            "현재 달러의 환율 입력(231031: 1372): 1372\n",
            "환전할 금액은 5000이며, 달러 금액은 1372이고, 환전금액은 3달러이다. \n"
          ]
        }
      ]
    },
    {
      "cell_type": "markdown",
      "source": [
        "4. 화씨(fahrenheit)를 섭씨(celcius)로 변환하는 코드작성"
      ],
      "metadata": {
        "id": "UVloFkWKvZEN"
      }
    },
    {
      "cell_type": "code",
      "source": [
        "fahrenheit = int(input(\"화씨온도를 입력하시오.:\"))# 사용자로부터 화씨 온도를 입력받아 정수로 변환하여 fahrenheit 변수에 저장합니다.\n",
        "celcius = (fahrenheit - 32) / 1.8# 화씨 온도를 섭씨 온도로 변환하여 celcius 변수에 저장합니다.\n",
        "print(f'화씨온도는  {fahrenheit}이고, 섭씨온도는 {celcius}입니다.')# 화씨 온도와 섭씨 온도를 출력합니다."
      ],
      "metadata": {
        "colab": {
          "base_uri": "https://localhost:8080/"
        },
        "id": "NtJnPJcQvjs3",
        "outputId": "32f14fee-ea53-4db7-b7a8-278b9181c16d"
      },
      "execution_count": null,
      "outputs": [
        {
          "output_type": "stream",
          "name": "stdout",
          "text": [
            "화씨온도를 입력하시오.:100\n",
            "화씨온도는  100이고, 섭씨온도는 37.77777777777778입니다.\n"
          ]
        }
      ]
    },
    {
      "cell_type": "code",
      "source": [
        "celcius = float(input(\"섭씨온도를 입력하시오.:\"))# 사용자로부터 섭씨 온도를 입력받아 실수로 변환하여 celcius 변수에 저장합니다.\n",
        "fahrenheit = (celcius * 1.8) + 32# 섭씨 온도를 화씨 온도로 변환하여 fahrenheit 변수에 저장합니다.\n",
        "print(f'섭씨온도는 {celcius}도는, 화씨 {fahrenheit}도 입니다.')# 섭씨 온도와 화씨 온도를 출력합니다."
      ],
      "metadata": {
        "colab": {
          "base_uri": "https://localhost:8080/"
        },
        "id": "oy0Z7Xqvvyn3",
        "outputId": "05739d6f-a67b-4805-9ea9-4f32ac9aeebd"
      },
      "execution_count": null,
      "outputs": [
        {
          "output_type": "stream",
          "name": "stdout",
          "text": [
            "섭씨온도를 입력하시오.:37.77777777777778\n",
            "섭씨온도는 37.77777777777778도는, 화씨 100.0도 입니다.\n"
          ]
        }
      ]
    },
    {
      "cell_type": "markdown",
      "source": [
        "5. 사용자로부터 2개의 정수를 받아서 합계를 출력"
      ],
      "metadata": {
        "id": "HtN95OM4v9ZM"
      }
    },
    {
      "cell_type": "code",
      "source": [
        "x = int(input(\"x의 값을 입력하시오.:\")) # 사용자로부터 x의 값을 입력받아 정수로 변환하여 x 변수에 저장합니다.\n",
        "y = int(input(\"y의 값을 입력하시오.:\"))# 사용자로부터 y의 값을 입력받아 정수로 변환하여 y 변수에 저장합니다.\n",
        "sum = x + y # x와 y의 값을 더하여 sum 변수에 저장합니다.\n",
        "print(sum)# sum 변수의 값을 출력합니다.\n"
      ],
      "metadata": {
        "colab": {
          "base_uri": "https://localhost:8080/"
        },
        "id": "ZFTt_Wv-wEbC",
        "outputId": "46959dbe-86d9-40ef-c50e-a03bbc908c40"
      },
      "execution_count": null,
      "outputs": [
        {
          "output_type": "stream",
          "name": "stdout",
          "text": [
            "x의 값을 입력하시오.:11\n",
            "y의 값을 입력하시오.:22\n",
            "33\n"
          ]
        }
      ]
    },
    {
      "cell_type": "markdown",
      "source": [
        "6. 부가세를 계산하시오.\n"
      ],
      "metadata": {
        "id": "gSM8Bl9ywLRU"
      }
    },
    {
      "cell_type": "code",
      "source": [
        "price = int(input(\"상품의 가격을 입력하시오.: \"))# 사용자로부터 상품의 가격을 입력받아 정수로 변환하여 price 변수에 저장합니다.\n",
        "vat =  price * 0.1# 가격에 10%의 부가가치세를 계산하여 vat 변수에 저장합니다.\n",
        "print(vat)# 부가가치세를 출력합니다."
      ],
      "metadata": {
        "colab": {
          "base_uri": "https://localhost:8080/"
        },
        "id": "ZApueshZwYDb",
        "outputId": "974303b1-939c-41c2-a202-b2567b9b4068"
      },
      "execution_count": null,
      "outputs": [
        {
          "output_type": "stream",
          "name": "stdout",
          "text": [
            "상품의 가격을 입력하시오.: 4623\n",
            "462.3\n"
          ]
        }
      ]
    },
    {
      "cell_type": "markdown",
      "source": [],
      "metadata": {
        "id": "ukhTbwI1uP1C"
      }
    }
  ]
}
