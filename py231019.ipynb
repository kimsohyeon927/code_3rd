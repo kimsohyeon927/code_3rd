{
  "nbformat": 4,
  "nbformat_minor": 0,
  "metadata": {
    "colab": {
      "provenance": [],
      "name": "py231019.ipynb",
      "authorship_tag": "ABX9TyOq6JYM8eu8LNmEmldw4bx8",
      "include_colab_link": true
    },
    "kernelspec": {
      "name": "python3",
      "display_name": "Python 3"
    },
    "language_info": {
      "name": "python"
    }
  },
  "cells": [
    {
      "cell_type": "markdown",
      "metadata": {
        "id": "view-in-github",
        "colab_type": "text"
      },
      "source": [
        "<a href=\"https://colab.research.google.com/github/kimsohyeon927/code_3rd/blob/main/py231019.ipynb\" target=\"_parent\"><img src=\"https://colab.research.google.com/assets/colab-badge.svg\" alt=\"Open In Colab\"/></a>"
      ]
    },
    {
      "cell_type": "markdown",
      "source": [
        "1. To-Do list를 작성하시오\n",
        "-2023년 10월 19일 김소현\n",
        "\n",
        "\n",
        "*   (1) 도서관에서 책 빌리기\n",
        "*   (2) 11:10 컴퓨팅적 사고와 기초코딩 수업\n",
        "*   (3) 13:00 점심식사\n",
        "*   (4) 14:10 교양수업\n",
        "*   (5) 16:00 파이썬 공부 및 레포트 작성\n",
        "*   (6) 17:40 저녁식사 및 집안일 돕기\n",
        "*   (7) 19:00 LOL하기\n",
        "\n",
        "\n",
        "\n",
        "\n",
        "\n",
        "\n",
        "\n",
        "\n"
      ],
      "metadata": {
        "id": "0aJ606YqydBO"
      }
    },
    {
      "cell_type": "code",
      "source": [
        "print(\"To-Do list\")\n",
        "print(\"(1)도서관에서 책 빌리기\")\n",
        "print(\"(2) 11:10 컴퓨팅적 사고와 기초코딩 수업\")\n",
        "print(\"(3) 13:00 점심식사\")\n",
        "print(\"(4) 14:10 교양수업\")\n",
        "print(\"(5) 16:00 파이썬 공부 및 레포트 작성\")\n",
        "print(\"(6) 17:40 저녁식사 및 집안일 돕기\")\n",
        "print(\"(7) 19:00 LOL하기\")"
      ],
      "metadata": {
        "colab": {
          "base_uri": "https://localhost:8080/"
        },
        "id": "Q7HQgAWtz5Fl",
        "outputId": "957fcc19-394a-450d-e64e-b1c565a7b481"
      },
      "execution_count": null,
      "outputs": [
        {
          "output_type": "stream",
          "name": "stdout",
          "text": [
            "To-Do list\n",
            "(1)도서관에서 책 빌리기\n",
            "(2) 11:10 컴퓨팅적 사고와 기초코딩 수업\n",
            "(3) 13:00 점심식사\n",
            "(4) 14:10 교양수업\n",
            "(5) 16:00 파이썬 공부 및 레포트 작성\n",
            "(6) 17:40 저녁식사 및 집안일 돕기\n",
            "(7) 19:00 LOL하기\n"
          ]
        }
      ]
    },
    {
      "cell_type": "markdown",
      "source": [
        "2. 인사말 출력하기\n",
        "\n",
        "*   식사하셨습니까? 형님\n",
        "\n",
        "\n"
      ],
      "metadata": {
        "id": "GPbfWTaa1t6U"
      }
    },
    {
      "cell_type": "code",
      "source": [
        "print(\"인사말 출력하기\")\n",
        "print(\"식사하셨습니까? 형님\")"
      ],
      "metadata": {
        "colab": {
          "base_uri": "https://localhost:8080/"
        },
        "id": "56h_YctF1790",
        "outputId": "7dfdb8e1-071a-4a55-c9b2-93c08ec48f05"
      },
      "execution_count": null,
      "outputs": [
        {
          "output_type": "stream",
          "name": "stdout",
          "text": [
            "인사말 출력하기\n",
            "식사하셨습니까? 형님\n"
          ]
        }
      ]
    },
    {
      "cell_type": "markdown",
      "source": [
        "3. 학생 4명의 국어점수를 입력받아서 아래와 같이 출력하시오\n",
        "\n",
        "*   박보검: 90점\n",
        "*   션: 92점\n",
        "*   도룡용: 80점\n",
        "*   차은우: 99점\n",
        "*   1등 차은우\n",
        "*   2등 션\n",
        "*   3등 박보검\n",
        "*   4등 도롱용\n",
        "\n",
        "\n"
      ],
      "metadata": {
        "id": "7Qc685lR2XJl"
      }
    },
    {
      "cell_type": "code",
      "source": [
        "n1 = (input(\"박보검의 국어점수: \"))\n",
        "n2 = (input(\"션의 국어점수: \"))\n",
        "n3 = (input(\"도롱용의 국어점수: \"))\n",
        "n4 = (input(\"차은우의 국어점수: \"))\n",
        "print(\"1등 차은우\", n4, \"점\")\n",
        "print(\"2등 션\", n2, \"점\")\n",
        "print(\"1등 박보검\", n1, \"점\")\n",
        "print(\"4등 도롱용\", n3, \"점\")"
      ],
      "metadata": {
        "colab": {
          "base_uri": "https://localhost:8080/"
        },
        "id": "TdKwAok03PAV",
        "outputId": "4f073755-ba94-4178-8c1c-b30e08d09c92"
      },
      "execution_count": null,
      "outputs": [
        {
          "output_type": "stream",
          "name": "stdout",
          "text": [
            "박보검의 국어점수: 90\n",
            "션의 국어점수: 92\n",
            "도롱용의 국어점수: 80\n",
            "차은우의 국어점수: 99\n",
            "1등 차은우 99 점\n",
            "2등 션 92 점\n",
            "1등 박보검 90 점\n",
            "4등 도롱용 80 점\n"
          ]
        }
      ]
    },
    {
      "cell_type": "markdown",
      "source": [
        "4. 두개의 점수를 입력받아서 합계와 평균을 출력하시오.\n"
      ],
      "metadata": {
        "id": "NjRyr2rR4zn1"
      }
    },
    {
      "cell_type": "code",
      "source": [
        "n1 = int(input(\"n1의 값을 입력하시오.:\"))\n",
        "n2 = int(input(\"n2의 값을 입력하시오.:\"))\n",
        "total= n1+n2\n",
        "average = total / 2\n",
        "print(total)\n",
        "print(average)\n"
      ],
      "metadata": {
        "colab": {
          "base_uri": "https://localhost:8080/"
        },
        "id": "7Og7pKwd5XYE",
        "outputId": "d59d73f9-abc3-4618-d7cd-ba8a6275307c"
      },
      "execution_count": null,
      "outputs": [
        {
          "output_type": "stream",
          "name": "stdout",
          "text": [
            "n1의 값을 입력하시오.:60\n",
            "n2의 값을 입력하시오.:65\n",
            "125\n",
            "62.5\n"
          ]
        }
      ]
    }
  ]
}