{
  "nbformat": 4,
  "nbformat_minor": 0,
  "metadata": {
    "colab": {
      "provenance": [],
      "authorship_tag": "ABX9TyPGTRzk414d733LeKl40JOF",
      "include_colab_link": true
    },
    "kernelspec": {
      "name": "python3",
      "display_name": "Python 3"
    },
    "language_info": {
      "name": "python"
    }
  },
  "cells": [
    {
      "cell_type": "markdown",
      "metadata": {
        "id": "view-in-github",
        "colab_type": "text"
      },
      "source": [
        "<a href=\"https://colab.research.google.com/github/kimsohyeon927/code_3rd/blob/main/CTBA_9.ipynb\" target=\"_parent\"><img src=\"https://colab.research.google.com/assets/colab-badge.svg\" alt=\"Open In Colab\"/></a>"
      ]
    },
    {
      "cell_type": "markdown",
      "source": [
        "1. 두가지 이상의 선택, 다양한 선택구조 코딩\n",
        "- 배송료처리 3가지로 작성\n",
        "- 변수: price, 가격 10만원이상 0원,\n",
        "2만원 이상 3000원, 그외 5천원"
      ],
      "metadata": {
        "id": "HOwsC0StMjsT"
      }
    },
    {
      "cell_type": "code",
      "execution_count": 2,
      "metadata": {
        "colab": {
          "base_uri": "https://localhost:8080/"
        },
        "id": "tVvSlfzsMEvA",
        "outputId": "fa9203aa-d361-45a1-950e-2754f8007df3"
      },
      "outputs": [
        {
          "output_type": "stream",
          "name": "stdout",
          "text": [
            "배송료를 계산합니다.\n",
            "##############################\n",
            "구입금액 입력: 19000\n",
            "배송료는 5000원 입니다.\n"
          ]
        }
      ],
      "source": [
        "print(\"배송료를 계산합니다.\")\n",
        "print(\"#\"*30)\n",
        "price = int(input(\"구입금액 입력: \"))\n",
        "if price >= 100000:\n",
        "  shipping_cost = 0\n",
        "else:\n",
        "  if price >= 20000:\n",
        "    shipping_cost = 3000\n",
        "  else:\n",
        "    shipping_cost = 5000\n",
        "print(f'배송료는 {shipping_cost}원 입니다.')"
      ]
    },
    {
      "cell_type": "markdown",
      "source": [
        "2. 환영합니다. 5번 출력, 10번 출력, 30번 출력"
      ],
      "metadata": {
        "id": "Rtp-p84KORMn"
      }
    },
    {
      "cell_type": "code",
      "source": [
        "print(\"환영합니다.\")\n",
        "print(\"환영합니다.\")\n",
        "print(\"환영합니다.\")\n",
        "print(\"환영합니다.\")"
      ],
      "metadata": {
        "colab": {
          "base_uri": "https://localhost:8080/"
        },
        "id": "0AyrXpIMOW9-",
        "outputId": "41e49695-4f6a-4e0a-9bb0-cd37306954ae"
      },
      "execution_count": 3,
      "outputs": [
        {
          "output_type": "stream",
          "name": "stdout",
          "text": [
            "환영합니다.\n",
            "환영합니다.\n",
            "환영합니다.\n",
            "환영합니다.\n"
          ]
        }
      ]
    },
    {
      "cell_type": "code",
      "source": [
        "print(\"환영합니다.\\n\" * 5)"
      ],
      "metadata": {
        "colab": {
          "base_uri": "https://localhost:8080/"
        },
        "id": "0gRyD1zdOkDD",
        "outputId": "385ebd90-8178-4744-a55e-b0accf63001b"
      },
      "execution_count": 10,
      "outputs": [
        {
          "output_type": "stream",
          "name": "stdout",
          "text": [
            "환영합니다.\n",
            "환영합니다.\n",
            "환영합니다.\n",
            "환영합니다.\n",
            "환영합니다.\n",
            "\n"
          ]
        }
      ]
    },
    {
      "cell_type": "code",
      "source": [
        "count = 1\n",
        "while count <= 5:\n",
        "  #print(\"(\", count, \")\", \"환영합니다.\")\n",
        "  print(F'({count})환영합니다.')\n",
        "  #count = count + 1\n",
        "  count +=1"
      ],
      "metadata": {
        "colab": {
          "base_uri": "https://localhost:8080/"
        },
        "id": "EW94Mmw7Skl8",
        "outputId": "8a1f6d3f-0b4f-451e-d524-22a85eba3562"
      },
      "execution_count": 16,
      "outputs": [
        {
          "output_type": "stream",
          "name": "stdout",
          "text": [
            "(1)환영합니다.\n",
            "(2)환영합니다.\n",
            "(3)환영합니다.\n",
            "(4)환영합니다.\n",
            "(5)환영합니다.\n"
          ]
        }
      ]
    },
    {
      "cell_type": "markdown",
      "source": [
        "3. 0부터 9까지 출력하는 코드 작성\n",
        "- 변수 : x"
      ],
      "metadata": {
        "id": "qjLv7FIXUuyX"
      }
    },
    {
      "cell_type": "code",
      "source": [
        "x = 0\n",
        "while x < 10:\n",
        "  print(x, end=' ')\n",
        "  x += 1"
      ],
      "metadata": {
        "colab": {
          "base_uri": "https://localhost:8080/"
        },
        "id": "z-gvNZ_FU1RM",
        "outputId": "3cdf124c-5138-4b58-9842-d4c170b00a37"
      },
      "execution_count": 23,
      "outputs": [
        {
          "output_type": "stream",
          "name": "stdout",
          "text": [
            "0 1 2 3 4 5 6 7 8 9 "
          ]
        }
      ]
    },
    {
      "cell_type": "markdown",
      "source": [
        "4.3-6-9 게임 (3의 배수 판단): 3의 배수를\n",
        "3으로 나누면 나머지가 0이 되므로(i mod 3)의 값이 0이면 박수를 출력, 아니면 숫자를 출력해주는 코드 작성"
      ],
      "metadata": {
        "id": "1LHjGDLyVjx-"
      }
    },
    {
      "cell_type": "code",
      "source": [
        "i = 1                          # 변수 i는 1로 선언\n",
        "while i <= 30:                 # 반복문 while을 사용해서 i가 30보다 작거나 같을때\n",
        "  if i % 3 == 0:               # 만약 i값을 3드로 나눈 나머지가 0이면\n",
        "    print (\"박수\", end=' ')    # 박수를 출력하고 공백을 하나 만듦\n",
        "  else:                        # 위의 것이 아니면,\n",
        "    print(i, end=' ')          # i값만 출력하고 공백 하나 만듦\n",
        "  i += 1                       # 변수 i값에 i와 1을 더해서 다시 변수 i에 선언"
      ],
      "metadata": {
        "colab": {
          "base_uri": "https://localhost:8080/"
        },
        "id": "hjdpok9XV-R4",
        "outputId": "1e47f97d-3d81-4616-a94d-09727d529ff2"
      },
      "execution_count": 26,
      "outputs": [
        {
          "output_type": "stream",
          "name": "stdout",
          "text": [
            "1 2 박수 4 5 박수 7 8 박수 10 11 박수 13 14 박수 16 17 박수 19 20 박수 22 23 박수 25 26 박수 28 29 박수 "
          ]
        }
      ]
    }
  ]
}