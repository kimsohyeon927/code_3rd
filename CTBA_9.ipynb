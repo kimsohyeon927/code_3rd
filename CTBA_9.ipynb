{
  "nbformat": 4,
  "nbformat_minor": 0,
  "metadata": {
    "colab": {
      "provenance": [],
      "authorship_tag": "ABX9TyPWiq44pSgX4ZEPvXIP6cH6",
      "include_colab_link": true
    },
    "kernelspec": {
      "name": "python3",
      "display_name": "Python 3"
    },
    "language_info": {
      "name": "python"
    }
  },
  "cells": [
    {
      "cell_type": "markdown",
      "metadata": {
        "id": "view-in-github",
        "colab_type": "text"
      },
      "source": [
        "<a href=\"https://colab.research.google.com/github/kimsohyeon927/code_3rd/blob/main/CTBA_9.ipynb\" target=\"_parent\"><img src=\"https://colab.research.google.com/assets/colab-badge.svg\" alt=\"Open In Colab\"/></a>"
      ]
    },
    {
      "cell_type": "markdown",
      "source": [
        "1. 두가지 이상의 선택, 다양한 선택구조 코딩\n",
        "- 배송료처리 3가지로 작성\n",
        "- 변수: price, 가격 10만원이상 0원,\n",
        "2만원 이상 3000원, 그외 5천원"
      ],
      "metadata": {
        "id": "HOwsC0StMjsT"
      }
    },
    {
      "cell_type": "code",
      "execution_count": null,
      "metadata": {
        "colab": {
          "base_uri": "https://localhost:8080/"
        },
        "id": "tVvSlfzsMEvA",
        "outputId": "fa9203aa-d361-45a1-950e-2754f8007df3"
      },
      "outputs": [
        {
          "output_type": "stream",
          "name": "stdout",
          "text": [
            "배송료를 계산합니다.\n",
            "##############################\n",
            "구입금액 입력: 19000\n",
            "배송료는 5000원 입니다.\n"
          ]
        }
      ],
      "source": [
        "print(\"배송료를 계산합니다.\")                    # \"배송료를 계산합니다.\"라는 메시지를 출력합니다.\n",
        "print(\"#\"*30)                                    # \"#\" 문자를 30번 출력하여 구분선을 만듭니다.\n",
        "price = int(input(\"구입금액 입력: \"))            # 사용자로부터 구입 금액을 입력받습니다.\n",
        "if price >= 100000:                              # 입력받은 구입 금액이 100,000원 이상인 경우\n",
        "  shipping_cost = 0                              # 배송료를 0원으로 설정합니다.\n",
        "else:                                            # 위의 것이 아니라면\n",
        "  if price >= 20000:                             # 입력받은 구입 금액이 20,000원 이상인 경우\n",
        "    shipping_cost = 3000                         # 배송료를 3,000원으로 설정합니다.\n",
        "  else:                                          # 입력받은 구입 금액이 20,000원 미만인 경우\n",
        "    shipping_cost = 5000                         # 배송료를 5,000원으로 설정합니다.\n",
        "print(f'배송료는 {shipping_cost}원 입니다.')     # 배송료를 출력합니다."
      ]
    },
    {
      "cell_type": "markdown",
      "source": [
        "2. 환영합니다. 5번 출력, 10번 출력, 30번 출력"
      ],
      "metadata": {
        "id": "Rtp-p84KORMn"
      }
    },
    {
      "cell_type": "code",
      "source": [
        "print(\"환영합니다.\")   # \"환영합니다.\"를 출력합니다.\n",
        "print(\"환영합니다.\")   # \"환영합니다.\"를 출력합니다.\n",
        "print(\"환영합니다.\")   # \"환영합니다.\"를 출력합니다.\n",
        "print(\"환영합니다.\")   # \"환영합니다.\"를 출력합니다."
      ],
      "metadata": {
        "colab": {
          "base_uri": "https://localhost:8080/"
        },
        "id": "0AyrXpIMOW9-",
        "outputId": "41e49695-4f6a-4e0a-9bb0-cd37306954ae"
      },
      "execution_count": null,
      "outputs": [
        {
          "output_type": "stream",
          "name": "stdout",
          "text": [
            "환영합니다.\n",
            "환영합니다.\n",
            "환영합니다.\n",
            "환영합니다.\n"
          ]
        }
      ]
    },
    {
      "cell_type": "code",
      "source": [
        "print(\"환영합니다.\\n\" * 5)   #\"환영합니다.\"를 5번 출력합니다."
      ],
      "metadata": {
        "colab": {
          "base_uri": "https://localhost:8080/"
        },
        "id": "0gRyD1zdOkDD",
        "outputId": "385ebd90-8178-4744-a55e-b0accf63001b"
      },
      "execution_count": null,
      "outputs": [
        {
          "output_type": "stream",
          "name": "stdout",
          "text": [
            "환영합니다.\n",
            "환영합니다.\n",
            "환영합니다.\n",
            "환영합니다.\n",
            "환영합니다.\n",
            "\n"
          ]
        }
      ]
    },
    {
      "cell_type": "code",
      "source": [
        "count = 1                                    # count 변수를 1로 초기화합니다.\n",
        "while count <= 5:                            # count가 5 이하일 동안 반복합니다.\n",
        "  #print(\"(\", count, \")\", \"환영합니다.\")\n",
        "  print(F'({count})환영합니다.')             # 환영 메시지를 출력합니다. 메시지에는 현재 count의 값이 포함되어 있습니다.\n",
        "  #count = count + 1\n",
        "  count +=1                                  # count 값을 1씩 증가시킵니다."
      ],
      "metadata": {
        "colab": {
          "base_uri": "https://localhost:8080/"
        },
        "id": "EW94Mmw7Skl8",
        "outputId": "8a1f6d3f-0b4f-451e-d524-22a85eba3562"
      },
      "execution_count": null,
      "outputs": [
        {
          "output_type": "stream",
          "name": "stdout",
          "text": [
            "(1)환영합니다.\n",
            "(2)환영합니다.\n",
            "(3)환영합니다.\n",
            "(4)환영합니다.\n",
            "(5)환영합니다.\n"
          ]
        }
      ]
    },
    {
      "cell_type": "markdown",
      "source": [
        "3. 0부터 9까지 출력하는 코드 작성\n",
        "- 변수 : x"
      ],
      "metadata": {
        "id": "qjLv7FIXUuyX"
      }
    },
    {
      "cell_type": "code",
      "source": [
        "x = 0                 # x 변수를 0으로 초기화합니다.\n",
        "while x < 10:         # x가 10보다 작을 동안 반복합니다.\n",
        "  print(x, end=' ')   # 현재의 x 값을 출력합니다. 출력 후에는 공백 문자를 출력합니다.\n",
        "  x += 1              # x 값을 1씩 증가시킵니다."
      ],
      "metadata": {
        "colab": {
          "base_uri": "https://localhost:8080/"
        },
        "id": "z-gvNZ_FU1RM",
        "outputId": "3cdf124c-5138-4b58-9842-d4c170b00a37"
      },
      "execution_count": null,
      "outputs": [
        {
          "output_type": "stream",
          "name": "stdout",
          "text": [
            "0 1 2 3 4 5 6 7 8 9 "
          ]
        }
      ]
    },
    {
      "cell_type": "markdown",
      "source": [
        "4. 1부터 10까지 정수의 합을 계산하여 출력하는 코드"
      ],
      "metadata": {
        "id": "oj5E_r56Ybwz"
      }
    },
    {
      "cell_type": "code",
      "source": [
        "x = 1                    # x 변수를 1로 초기화합니다.\n",
        "total = 0                # total 변수를 0으로 초기화합니다.\n",
        "while x <= 10:           # x가 10 이하일 동안 반복합니다.\n",
        "  total = total + x      # 현재의 x 값을 total에 더합니다.\n",
        "  x += 1                 # x 값을 1씩 증가시킵니다.\n",
        "print(total)             # 반복이 끝나면 total 값을 출력합니다."
      ],
      "metadata": {
        "colab": {
          "base_uri": "https://localhost:8080/"
        },
        "id": "K5TrGvt7YjAI",
        "outputId": "b226216e-6e6f-4f37-e2ca-86d41dc0475b"
      },
      "execution_count": null,
      "outputs": [
        {
          "output_type": "stream",
          "name": "stdout",
          "text": [
            "55\n"
          ]
        }
      ]
    },
    {
      "cell_type": "code",
      "source": [
        "x = 1              # x 변수를 1로 초기화 합니다.\n",
        "while x <= 10:     # x가 10 이하일 동안 반복합니다.\n",
        "  print(x)         # x 변수의 값을 출력합니다.\n",
        "  x += 1           # x 값을 1 증가시킵니다."
      ],
      "metadata": {
        "colab": {
          "base_uri": "https://localhost:8080/"
        },
        "id": "XuQUjcfRY2dG",
        "outputId": "79841be1-bfff-44df-8190-1b12aa599538"
      },
      "execution_count": null,
      "outputs": [
        {
          "output_type": "stream",
          "name": "stdout",
          "text": [
            "1\n",
            "2\n",
            "3\n",
            "4\n",
            "5\n",
            "6\n",
            "7\n",
            "8\n",
            "9\n",
            "10\n"
          ]
        }
      ]
    },
    {
      "cell_type": "markdown",
      "source": [
        "5.3-6-9 게임 (3의 배수 판단): 3의 배수를\n",
        "3으로 나누면 나머지가 0이 되므로(i mod 3)의 값이 0이면 박수를 출력, 아니면 숫자를 출력해주는 코드 작성"
      ],
      "metadata": {
        "id": "1LHjGDLyVjx-"
      }
    },
    {
      "cell_type": "code",
      "source": [
        "i = 1                          # 변수 i는 1로 선언\n",
        "while i <= 30:                 # 반복문 while을 사용해서 i가 30보다 작거나 같을때\n",
        "  if i % 3 == 0:               # 만약 i값을 3드로 나눈 나머지가 0이면\n",
        "    print (\"박수\", end=' ')    # 박수를 출력하고 공백을 하나 만듦\n",
        "  else:                        # 위의 것이 아니면,\n",
        "    print(i, end=' ')          # i값만 출력하고 공백 하나 만듦\n",
        "  i += 1                       # 변수 i값에 i와 1을 더해서 다시 변수 i에 선언"
      ],
      "metadata": {
        "colab": {
          "base_uri": "https://localhost:8080/"
        },
        "id": "hjdpok9XV-R4",
        "outputId": "1e47f97d-3d81-4616-a94d-09727d529ff2"
      },
      "execution_count": null,
      "outputs": [
        {
          "output_type": "stream",
          "name": "stdout",
          "text": [
            "1 2 박수 4 5 박수 7 8 박수 10 11 박수 13 14 박수 16 17 박수 19 20 박수 22 23 박수 25 26 박수 28 29 박수 "
          ]
        }
      ]
    },
    {
      "cell_type": "code",
      "source": [
        "for num in range(1, 11):     #1부터 11까지의 숫자를 반복\n",
        "   if num % 3 == 0:          #숫자(num)를 3으로 나눈 나머지가 0인 경우\n",
        "    print(\"박수\", end=' ')   #박수를 출력하고 공백 만듦\n",
        "   else:                     #그게 아니면\n",
        "    print(num, end=' ')      #숫자만 출력하고 공백 만듦"
      ],
      "metadata": {
        "colab": {
          "base_uri": "https://localhost:8080/"
        },
        "id": "-YuPGPojZKW2",
        "outputId": "6e662cba-1305-4630-bd48-8a7d802a9369"
      },
      "execution_count": null,
      "outputs": [
        {
          "output_type": "stream",
          "name": "stdout",
          "text": [
            "1 2 박수 4 5 박수 7 8 박수 10 "
          ]
        }
      ]
    },
    {
      "cell_type": "markdown",
      "source": [
        "6. 팩토리얼 계산하는 코드 작성"
      ],
      "metadata": {
        "id": "BPOUYq_3ackf"
      }
    },
    {
      "cell_type": "code",
      "source": [
        "i = 4                          # i 변수를 4로 초기화합니다.\n",
        "factorial = 1                  # factorial 변수를 1로 초기화합니다.\n",
        "while i >= 1:                  # i가 1 이상일 동안 반복합니다.\n",
        "  factorial = factorial * i    # factorial에 현재의 i 값을 곱합니다.\n",
        "  i -= 1                       # i 값을 1 감소시킵니다.\n",
        "print(factorial)               # 반복이 끝나면 factorial 값을 출력합니다."
      ],
      "metadata": {
        "colab": {
          "base_uri": "https://localhost:8080/"
        },
        "id": "wY1F156ycksl",
        "outputId": "7dd869a2-47f8-4e7a-9e7b-9679f31e57e1"
      },
      "execution_count": null,
      "outputs": [
        {
          "output_type": "stream",
          "name": "stdout",
          "text": [
            "24\n"
          ]
        }
      ]
    },
    {
      "cell_type": "code",
      "source": [
        "num = int(input(\"팩토리얼 값입력: \"))       # 사용자로부터 숫자를 입력받아 num 변수에 저장합니다.\n",
        "factorial = 1                               # factorial 변수를 1로 초기화합니다.\n",
        "while num >= 1:                             # num이 1 이상일 동안 반복합니다.\n",
        "  factorial = factorial * num               # factorial에 현재의 num 값을 곱합니다.\n",
        "  num -= 1                                  # num 값을 1 감소시킵니다.\n",
        "print(\"계산된 팩토리얼 값은 :\", factorial)  # 반복이 끝나면 계산된 팩토리얼 값을 출력합니다."
      ],
      "metadata": {
        "colab": {
          "base_uri": "https://localhost:8080/"
        },
        "id": "tkihKIz8biMw",
        "outputId": "d7a6653b-7d32-4036-a534-d15a46702f03"
      },
      "execution_count": null,
      "outputs": [
        {
          "output_type": "stream",
          "name": "stdout",
          "text": [
            "팩토리얼 값입력: 3\n",
            "계산된 팩토리얼 값은 : 6\n"
          ]
        }
      ]
    }
  ]
}