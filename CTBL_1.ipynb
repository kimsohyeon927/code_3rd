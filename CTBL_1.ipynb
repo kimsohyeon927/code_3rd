{
  "nbformat": 4,
  "nbformat_minor": 0,
  "metadata": {
    "colab": {
      "provenance": [],
      "authorship_tag": "ABX9TyOITEN8VSyYqj4Xwbzo2WQ4",
      "include_colab_link": true
    },
    "kernelspec": {
      "name": "python3",
      "display_name": "Python 3"
    },
    "language_info": {
      "name": "python"
    }
  },
  "cells": [
    {
      "cell_type": "markdown",
      "metadata": {
        "id": "view-in-github",
        "colab_type": "text"
      },
      "source": [
        "<a href=\"https://colab.research.google.com/github/kimsohyeon927/code_3rd/blob/main/CTBL_1.ipynb\" target=\"_parent\"><img src=\"https://colab.research.google.com/assets/colab-badge.svg\" alt=\"Open In Colab\"/></a>"
      ]
    },
    {
      "cell_type": "markdown",
      "source": [
        "1. 학생으로부터 성적을 입력받아 합격유무를 출력하는 코드작성\n",
        "- 사용변수: grade\n",
        "- 사용수식: grade >= 70:"
      ],
      "metadata": {
        "id": "4h0ywKfE0_e-"
      }
    },
    {
      "cell_type": "code",
      "execution_count": 2,
      "metadata": {
        "colab": {
          "base_uri": "https://localhost:8080/"
        },
        "id": "Ny92etbD09kz",
        "outputId": "7d7d26cb-00a0-4261-a0d9-5086df4d2b83"
      },
      "outputs": [
        {
          "output_type": "stream",
          "name": "stdout",
          "text": [
            "성적입력: 80\n",
            "70점 이상이므로 합격\n"
          ]
        }
      ],
      "source": [
        "grade = int(input(\"성적입력: \"))\n",
        "if grade >= 70:\n",
        "  print(\"70점 이상이므로 합격\")\n",
        "else:\n",
        "  print(\"70점 이하는 불합격\")\n"
      ]
    },
    {
      "cell_type": "markdown",
      "source": [
        "2. 쇼핑몰의 배송료를 계산하는 코드 작성\n",
        "- 변수명 : price, shipping_cost\n",
        "- 수식 : price >= 20000\n",
        "- shippping_cost = 3000"
      ],
      "metadata": {
        "id": "ZytMjhTb3sf9"
      }
    },
    {
      "cell_type": "code",
      "source": [
        "price = int(input(\"구입금액 입력: \"))\n",
        "if price >= 20000:\n",
        "  shipping_cost = 0\n",
        "  print(f'구입금액이 {price}원 이상입니다.')\n",
        "else:\n",
        "  shipping_cost = 3000\n",
        "  print(\"구입금액이 2만원 이하입니다\")\n",
        "print(f'회원님의 배송료는 {shipping_cost}입니다.')"
      ],
      "metadata": {
        "colab": {
          "base_uri": "https://localhost:8080/"
        },
        "id": "Uh7tCsAM4332",
        "outputId": "12259574-9c96-470e-8a10-14d3d9ba8a8f"
      },
      "execution_count": 3,
      "outputs": [
        {
          "output_type": "stream",
          "name": "stdout",
          "text": [
            "구입금액 입력: 20000\n",
            "구입금액이 20000원 이상입니다.\n",
            "회원님의 배송료는 0입니다.\n"
          ]
        }
      ]
    },
    {
      "cell_type": "markdown",
      "source": [
        "3. 근무시간에 따라 초과근무와 정상근무를 판별하는 코드작성\n",
        "- 변수 : work_hour\n",
        "- 수식 : >=, 기준시간:72시간"
      ],
      "metadata": {
        "id": "p4t5ZMYI8Eh1"
      }
    },
    {
      "cell_type": "code",
      "source": [
        "work_hour = int(input(\"근무시간 입력: \"))\n",
        "if work_hour >= 72:\n",
        "  print(\"초과근무하였습니다. \")\n",
        "else:\n",
        "  print(\"정상근무하였습니다. \")\n"
      ],
      "metadata": {
        "colab": {
          "base_uri": "https://localhost:8080/"
        },
        "id": "apozaEpP9j-U",
        "outputId": "2906c1ed-c3e4-4c70-c283-5bbec9012971"
      },
      "execution_count": 5,
      "outputs": [
        {
          "output_type": "stream",
          "name": "stdout",
          "text": [
            "근무시간 입력: 72\n",
            "초과근무하였습니다. \n"
          ]
        }
      ]
    },
    {
      "cell_type": "markdown",
      "source": [
        "4. 정수를 입력받아서 짝수인지 홀수인지 판별하는 코드 작성\n",
        "- 변수: num\n",
        "- 수식: (num % 2) != 0:"
      ],
      "metadata": {
        "id": "UECuR5yH-DXc"
      }
    },
    {
      "cell_type": "code",
      "source": [
        "num = int(input(\"정수를 입력하시오: \"))\n",
        "if (num % 2) !=0:\n",
        "  print(\"홀수입니다.\")\n",
        "else:\n",
        "  print(\"짝수입니다.\")"
      ],
      "metadata": {
        "colab": {
          "base_uri": "https://localhost:8080/"
        },
        "id": "cVqWLjBe-up8",
        "outputId": "ae8474df-75f4-4ade-b3f8-eaab2f4336fa"
      },
      "execution_count": 7,
      "outputs": [
        {
          "output_type": "stream",
          "name": "stdout",
          "text": [
            "정수를 입력하시오: 4\n",
            "짝수입니다.\n"
          ]
        }
      ]
    },
    {
      "cell_type": "markdown",
      "source": [
        "5. 사용자의 이름과 나이를 입력받고, 답변하는 코드 작성\n",
        "- 입력: 성명 - name\n",
        "- 입력: 나이 - age\n",
        "- 수식: if age <= 20:\n",
        "\n",
        "최종 출력물\n",
        "- 이름을 입력하시오.: 김소현\n",
        "- 나이를 입력하시오.: 20\n",
        "- (1) 프로그래밍을 배우는 최적의 나이입니다.\n",
        "- (2) 아직도 늦지 않았습니다. 도전정신"
      ],
      "metadata": {
        "id": "JrwB_ljVAp_V"
      }
    },
    {
      "cell_type": "code",
      "source": [
        "name = input(\"이름을 입력하시오.: \")\n",
        "age = int(input(\"나이를 입력하시오.: \"))\n",
        "if age <= 20:\n",
        "  print(\"프로그래밍을 배우는 최적의 나이입니다.\")\n",
        "else:\n",
        "  print(\"아직도 늦지 않았습니다. 도전정신\")"
      ],
      "metadata": {
        "colab": {
          "base_uri": "https://localhost:8080/"
        },
        "id": "TQDdbePKBYy0",
        "outputId": "c4555d3d-eee5-4186-81b0-b7d8e421b4bf"
      },
      "execution_count": 12,
      "outputs": [
        {
          "output_type": "stream",
          "name": "stdout",
          "text": [
            "이름을 입력하시오.: 김소현\n",
            "나이를 입력하시오.: 22\n",
            "아직도 늦지 않았습니다. 도전정신\n"
          ]
        }
      ]
    },
    {
      "cell_type": "code",
      "source": [
        "import random  # 파이썬의 내장 모듈인 random을 import 합니다. 이 모듈은 난수를 생성하는 함수를 제공합니다.\n",
        "\n",
        "def generate_lotto_numbers():  # 로또 번호를 생성하는 함수를 정의합니다.\n",
        "    lotto_numbers = []  # 빈 리스트를 생성합니다. 이곳에 로또 번호를 저장할 예정입니다.\n",
        "\n",
        "    while len(lotto_numbers) < 6:  # 로또 번호가 6개가 될 때까지 반복합니다.\n",
        "        number = random.randint(1, 45)  # 1부터 45 사이의 랜덤한 정수를 생성합니다.\n",
        "        if number not in lotto_numbers:  # 만약 이 번호가 이미 로또 번호 리스트에 있다면, 이번 회차는 건너뛰고 다음 회차를 진행합니다.\n",
        "            lotto_numbers.append(number)  # 이 번호가 로또 번호 리스트에 없다면, 이 번호를 리스트에 추가합니다.\n",
        "\n",
        "    return sorted(lotto_numbers)  # 로또 번호 리스트를 오름차순으로 정렬한 후 반환합니다.\n",
        "\n",
        "print(generate_lotto_numbers())  # 로또 번호를 생성하는 함수를 호출하고, 그 결과를 출력합니다."
      ],
      "metadata": {
        "colab": {
          "base_uri": "https://localhost:8080/"
        },
        "id": "Cg9IYbrNFNxs",
        "outputId": "f6cc27e0-fb7e-4d8b-b1c0-01138319aeb5"
      },
      "execution_count": 14,
      "outputs": [
        {
          "output_type": "stream",
          "name": "stdout",
          "text": [
            "[10, 20, 21, 35, 38, 43]\n"
          ]
        }
      ]
    },
    {
      "cell_type": "code",
      "source": [
        "name = input(\"이름을 입력하시오.: \")  # 사용자의 이름을 입력받습니다.\n",
        "age = int(input(\"나이를 입력하시오.: \"))  # 사용자의 나이를 정수형으로 변환하여 입력받습니다.\n",
        "\n",
        "if age <= 20:  # 만약 사용자의 나이가 20세 이하라면\n",
        "    print(\"(1) 프로그래밍을 배우는 최적의 나이입니다.\")  # 이 메시지를 출력합니다.\n",
        "else:  # 만약 사용자의 나이가 20세 초과라면\n",
        "    print(\"(2) 아직도 늦지 않았습니다. 도전정신\")  # 이 메시지를 출력합니다."
      ],
      "metadata": {
        "colab": {
          "base_uri": "https://localhost:8080/"
        },
        "id": "Mx2un9btGV00",
        "outputId": "57bc4a27-8096-4f69-f7b8-270ffd18b70d"
      },
      "execution_count": 15,
      "outputs": [
        {
          "output_type": "stream",
          "name": "stdout",
          "text": [
            "이름을 입력하시오.: 김소현\n",
            "나이를 입력하시오.: 20\n",
            "(1) 프로그래밍을 배우는 최적의 나이입니다.\n"
          ]
        }
      ]
    }
  ]
}